{
 "cells": [
  {
   "cell_type": "markdown",
   "id": "91aa1496",
   "metadata": {},
   "source": [
    "# Python Variables"
   ]
  },
  {
   "cell_type": "markdown",
   "id": "62b1fd96",
   "metadata": {},
   "source": [
    "### 1. Create a variable name `fruit` with value `orange` and print `fruit`"
   ]
  },
  {
   "cell_type": "markdown",
   "id": "83461b4a",
   "metadata": {},
   "source": [
    "### Solution"
   ]
  },
  {
   "cell_type": "code",
   "execution_count": 24,
   "id": "a3315e7e",
   "metadata": {},
   "outputs": [
    {
     "name": "stdout",
     "output_type": "stream",
     "text": [
      "orange\n"
     ]
    }
   ],
   "source": [
    "fruit = 'orange'\n",
    "print(fruit)"
   ]
  },
  {
   "cell_type": "markdown",
   "id": "c05ea1a3",
   "metadata": {},
   "source": [
    "### 2. Check the type of the variable `fruit`"
   ]
  },
  {
   "cell_type": "markdown",
   "id": "61886158",
   "metadata": {},
   "source": [
    "### Solution"
   ]
  },
  {
   "cell_type": "code",
   "execution_count": 25,
   "id": "37983dca",
   "metadata": {},
   "outputs": [
    {
     "data": {
      "text/plain": [
       "str"
      ]
     },
     "execution_count": 25,
     "metadata": {},
     "output_type": "execute_result"
    }
   ],
   "source": [
    "type(fruit)"
   ]
  },
  {
   "cell_type": "markdown",
   "id": "93ce9d92",
   "metadata": {},
   "source": [
    "### 3. Create two variables `my_float` and `my_int` with values 9.99 and 9 respectively and print their types"
   ]
  },
  {
   "cell_type": "markdown",
   "id": "89e7f840",
   "metadata": {},
   "source": [
    "### Solution"
   ]
  },
  {
   "cell_type": "code",
   "execution_count": 52,
   "id": "c9d889e4",
   "metadata": {},
   "outputs": [
    {
     "name": "stdout",
     "output_type": "stream",
     "text": [
      "<class 'float'>\n",
      "<class 'int'>\n"
     ]
    }
   ],
   "source": [
    "my_float = 9.99\n",
    "my_int = 9\n",
    "print(type(my_float))\n",
    "print(type(my_int))"
   ]
  },
  {
   "cell_type": "markdown",
   "id": "6ecbfacc",
   "metadata": {},
   "source": [
    "### 4. Multiple `my_float` and `my_int` and store it in variable `my_results`"
   ]
  },
  {
   "cell_type": "markdown",
   "id": "a5a2cdab",
   "metadata": {},
   "source": [
    "### Solution"
   ]
  },
  {
   "cell_type": "code",
   "execution_count": 54,
   "id": "4d954b46",
   "metadata": {},
   "outputs": [
    {
     "data": {
      "text/plain": [
       "89.91"
      ]
     },
     "execution_count": 54,
     "metadata": {},
     "output_type": "execute_result"
    }
   ],
   "source": [
    "my_results = my_float * my_int\n",
    "my_results"
   ]
  },
  {
   "cell_type": "markdown",
   "id": "a3d741be",
   "metadata": {},
   "source": [
    "# Strings"
   ]
  },
  {
   "cell_type": "markdown",
   "id": "978d8f55",
   "metadata": {},
   "source": [
    "### 1. Convert the `my_name` variable in lower case"
   ]
  },
  {
   "cell_type": "code",
   "execution_count": 36,
   "id": "8d3039b3",
   "metadata": {},
   "outputs": [],
   "source": [
    "my_name = 'JAMES HALIBURTON'"
   ]
  },
  {
   "cell_type": "markdown",
   "id": "63237e73",
   "metadata": {},
   "source": [
    "### Solution"
   ]
  },
  {
   "cell_type": "code",
   "execution_count": 37,
   "id": "463b6893",
   "metadata": {},
   "outputs": [
    {
     "data": {
      "text/plain": [
       "'james haliburton'"
      ]
     },
     "execution_count": 37,
     "metadata": {},
     "output_type": "execute_result"
    }
   ],
   "source": [
    "my_name.lower()"
   ]
  },
  {
   "cell_type": "markdown",
   "id": "9a77e579",
   "metadata": {},
   "source": [
    "### 2. Replace the space in `my_name` variable with `_`"
   ]
  },
  {
   "cell_type": "markdown",
   "id": "14143274",
   "metadata": {},
   "source": [
    "### Solution"
   ]
  },
  {
   "cell_type": "code",
   "execution_count": 38,
   "id": "a751ee0b",
   "metadata": {},
   "outputs": [
    {
     "data": {
      "text/plain": [
       "'JAMES_HALIBURTON'"
      ]
     },
     "execution_count": 38,
     "metadata": {},
     "output_type": "execute_result"
    }
   ],
   "source": [
    "my_name.replace(' ', '_')"
   ]
  },
  {
   "cell_type": "markdown",
   "id": "a79f40bd",
   "metadata": {},
   "source": [
    "### 3. Split the `my_name` variable into list using default separator (space)"
   ]
  },
  {
   "cell_type": "markdown",
   "id": "e0b908fe",
   "metadata": {},
   "source": [
    "### Solution"
   ]
  },
  {
   "cell_type": "code",
   "execution_count": 39,
   "id": "0d10a490",
   "metadata": {},
   "outputs": [
    {
     "data": {
      "text/plain": [
       "['JAMES', 'HALIBURTON']"
      ]
     },
     "execution_count": 39,
     "metadata": {},
     "output_type": "execute_result"
    }
   ],
   "source": [
    "my_name.split()"
   ]
  },
  {
   "cell_type": "markdown",
   "id": "e8bf9b85",
   "metadata": {},
   "source": [
    "### 4. Join the two strings"
   ]
  },
  {
   "cell_type": "code",
   "execution_count": 48,
   "id": "f5eea751",
   "metadata": {},
   "outputs": [],
   "source": [
    "first_string = 'My name is'\n",
    "second_string = 'James'"
   ]
  },
  {
   "cell_type": "markdown",
   "id": "e5154bb9",
   "metadata": {},
   "source": [
    "### Solution"
   ]
  },
  {
   "cell_type": "code",
   "execution_count": 51,
   "id": "441934e4",
   "metadata": {},
   "outputs": [
    {
     "data": {
      "text/plain": [
       "'My name is James'"
      ]
     },
     "execution_count": 51,
     "metadata": {},
     "output_type": "execute_result"
    }
   ],
   "source": [
    "first_string + ' ' + second_string"
   ]
  },
  {
   "cell_type": "markdown",
   "id": "6964f50e",
   "metadata": {},
   "source": [
    "# Lists"
   ]
  },
  {
   "cell_type": "markdown",
   "id": "c3b465ce",
   "metadata": {},
   "source": [
    "### 1. Reverse the given python list"
   ]
  },
  {
   "cell_type": "code",
   "execution_count": 5,
   "id": "a0d28648",
   "metadata": {},
   "outputs": [],
   "source": [
    "list1 = [100, 200, 300, 400, 500]"
   ]
  },
  {
   "cell_type": "markdown",
   "id": "43bb2b72",
   "metadata": {},
   "source": [
    "### Solution"
   ]
  },
  {
   "cell_type": "code",
   "execution_count": 6,
   "id": "0b1d1aeb",
   "metadata": {},
   "outputs": [
    {
     "data": {
      "text/plain": [
       "[500, 400, 300, 200, 100]"
      ]
     },
     "execution_count": 6,
     "metadata": {},
     "output_type": "execute_result"
    }
   ],
   "source": [
    "list1.reverse()\n",
    "list1"
   ]
  },
  {
   "cell_type": "markdown",
   "id": "0e6b5a3a",
   "metadata": {},
   "source": [
    "### 2. Sort the given Python list in descending order"
   ]
  },
  {
   "cell_type": "code",
   "execution_count": 10,
   "id": "5e0b0ca0",
   "metadata": {},
   "outputs": [],
   "source": [
    "list2 = [1, 5, 2, 3, 4, 9, 8, 7, 10, 6]"
   ]
  },
  {
   "cell_type": "markdown",
   "id": "231ccc0d",
   "metadata": {},
   "source": [
    "### Solution"
   ]
  },
  {
   "cell_type": "code",
   "execution_count": 11,
   "id": "efc6ab12",
   "metadata": {},
   "outputs": [
    {
     "data": {
      "text/plain": [
       "[10, 9, 8, 7, 6, 5, 4, 3, 2, 1]"
      ]
     },
     "execution_count": 11,
     "metadata": {},
     "output_type": "execute_result"
    }
   ],
   "source": [
    "list2.sort(reverse=True)\n",
    "list2"
   ]
  },
  {
   "cell_type": "markdown",
   "id": "11bb975d",
   "metadata": {},
   "source": [
    "### 3. Merge the two lists:"
   ]
  },
  {
   "cell_type": "code",
   "execution_count": 13,
   "id": "7d3f46e4",
   "metadata": {},
   "outputs": [],
   "source": [
    "cities_canada = ['Toronto', 'Calgary', 'Vancouver']\n",
    "cities_usa = ['New York', 'Houston', 'Colorado']"
   ]
  },
  {
   "cell_type": "markdown",
   "id": "0beb1ccb",
   "metadata": {},
   "source": [
    "### Solution"
   ]
  },
  {
   "cell_type": "code",
   "execution_count": 14,
   "id": "ed97aa8e",
   "metadata": {},
   "outputs": [
    {
     "data": {
      "text/plain": [
       "['Toronto', 'Calgary', 'Vancouver', 'New York', 'Houston', 'Colorado']"
      ]
     },
     "execution_count": 14,
     "metadata": {},
     "output_type": "execute_result"
    }
   ],
   "source": [
    "cities_canada + cities_usa"
   ]
  },
  {
   "cell_type": "markdown",
   "id": "0f70e809",
   "metadata": {},
   "source": [
    "### 4. Filter None values from the list\n",
    "\n",
    "TIP: Use Python's default `filter` function."
   ]
  },
  {
   "cell_type": "code",
   "execution_count": 18,
   "id": "538013a9",
   "metadata": {},
   "outputs": [],
   "source": [
    "list_names = [\"Michael\", \"Kiva\", \"Fiza\", \"Brad\", \"\", \"Jimmy\", \"\", \"Natalia\"]"
   ]
  },
  {
   "cell_type": "markdown",
   "id": "063d22be",
   "metadata": {},
   "source": [
    "### Solution"
   ]
  },
  {
   "cell_type": "code",
   "execution_count": 19,
   "id": "7e4fe4d0",
   "metadata": {},
   "outputs": [
    {
     "data": {
      "text/plain": [
       "['Michael', 'Kiva', 'Fiza', 'Brad', 'Jimmy', 'Natalia']"
      ]
     },
     "execution_count": 19,
     "metadata": {},
     "output_type": "execute_result"
    }
   ],
   "source": [
    "list(filter(None, list_names))"
   ]
  },
  {
   "cell_type": "markdown",
   "id": "202dbba6",
   "metadata": {},
   "source": [
    "### 5. Indexing and Slicing Lists\n",
    "- Select the first value from the list `countries`\n",
    "- Select the first three values from the list `countries`\n",
    "- Select the last three values from the list `countries`"
   ]
  },
  {
   "cell_type": "code",
   "execution_count": 55,
   "id": "6c583828",
   "metadata": {},
   "outputs": [],
   "source": [
    "countries = ['USA', 'Canada','India', 'China', 'Japan', 'Denmark', 'Mexico']"
   ]
  },
  {
   "cell_type": "markdown",
   "id": "491b76e1",
   "metadata": {},
   "source": [
    "### Solution"
   ]
  },
  {
   "cell_type": "code",
   "execution_count": 66,
   "id": "5ff9b2fb",
   "metadata": {},
   "outputs": [
    {
     "data": {
      "text/plain": [
       "'USA'"
      ]
     },
     "execution_count": 66,
     "metadata": {},
     "output_type": "execute_result"
    }
   ],
   "source": [
    "countries[0]"
   ]
  },
  {
   "cell_type": "code",
   "execution_count": 65,
   "id": "7aa3f3d8",
   "metadata": {},
   "outputs": [
    {
     "data": {
      "text/plain": [
       "['USA', 'Canada', 'India']"
      ]
     },
     "execution_count": 65,
     "metadata": {},
     "output_type": "execute_result"
    }
   ],
   "source": [
    "countries[:3]"
   ]
  },
  {
   "cell_type": "code",
   "execution_count": 62,
   "id": "caf0a275",
   "metadata": {},
   "outputs": [
    {
     "data": {
      "text/plain": [
       "['Japan', 'Denmark', 'Mexico']"
      ]
     },
     "execution_count": 62,
     "metadata": {},
     "output_type": "execute_result"
    }
   ],
   "source": [
    "countries[-3:]"
   ]
  },
  {
   "cell_type": "markdown",
   "id": "14b41930",
   "metadata": {},
   "source": [
    "# Python Dictionaries"
   ]
  },
  {
   "cell_type": "markdown",
   "id": "b90f2fc9",
   "metadata": {},
   "source": [
    "### 1. Print all the keys from the dictionary `my_car`"
   ]
  },
  {
   "cell_type": "code",
   "execution_count": 67,
   "id": "ba810983",
   "metadata": {},
   "outputs": [],
   "source": [
    "my_car = {\n",
    "  \"brand\": \"Ford\",\n",
    "  \"model\": \"Mustang\",\n",
    "  \"year\": 1964\n",
    "}"
   ]
  },
  {
   "cell_type": "markdown",
   "id": "bef72e3e",
   "metadata": {},
   "source": [
    "### Solution"
   ]
  },
  {
   "cell_type": "code",
   "execution_count": 68,
   "id": "de679469",
   "metadata": {},
   "outputs": [
    {
     "data": {
      "text/plain": [
       "dict_keys(['brand', 'model', 'year'])"
      ]
     },
     "execution_count": 68,
     "metadata": {},
     "output_type": "execute_result"
    }
   ],
   "source": [
    "my_car.keys()"
   ]
  },
  {
   "cell_type": "markdown",
   "id": "c61b11c3",
   "metadata": {},
   "source": [
    "### 2. Retrieve `year` value from the dictionary `my_car`"
   ]
  },
  {
   "cell_type": "markdown",
   "id": "a61045bf",
   "metadata": {},
   "source": [
    "### Solution"
   ]
  },
  {
   "cell_type": "code",
   "execution_count": 69,
   "id": "cf787d75",
   "metadata": {},
   "outputs": [
    {
     "data": {
      "text/plain": [
       "1964"
      ]
     },
     "execution_count": 69,
     "metadata": {},
     "output_type": "execute_result"
    }
   ],
   "source": [
    "my_car['year']"
   ]
  },
  {
   "cell_type": "markdown",
   "id": "8d3fead6",
   "metadata": {},
   "source": [
    "### 3. Copy `my_car` dictionary into new variable `my_car2` and replace the `year` value from 1964 to 1975"
   ]
  },
  {
   "cell_type": "markdown",
   "id": "ec18962c",
   "metadata": {},
   "source": [
    "### Solution"
   ]
  },
  {
   "cell_type": "code",
   "execution_count": 70,
   "id": "570b41d0",
   "metadata": {},
   "outputs": [
    {
     "data": {
      "text/plain": [
       "{'brand': 'Ford', 'model': 'Mustang', 'year': 1975}"
      ]
     },
     "execution_count": 70,
     "metadata": {},
     "output_type": "execute_result"
    }
   ],
   "source": [
    "my_car2 = my_car.copy()\n",
    "my_car2['year'] = 1975\n",
    "my_car2"
   ]
  },
  {
   "cell_type": "markdown",
   "id": "d936af17",
   "metadata": {},
   "source": [
    "### 4. Convert the following two lists into dictionary\n",
    "\n",
    "TIP - You can use Python's `zip` function."
   ]
  },
  {
   "cell_type": "code",
   "execution_count": 73,
   "id": "ff584db8",
   "metadata": {},
   "outputs": [],
   "source": [
    "list1 = [1, 2, 3]\n",
    "list2 = ['One', 'Two', 'Three']"
   ]
  },
  {
   "cell_type": "markdown",
   "id": "1bead1c5",
   "metadata": {},
   "source": [
    "### Solution"
   ]
  },
  {
   "cell_type": "code",
   "execution_count": 75,
   "id": "679e0501",
   "metadata": {},
   "outputs": [
    {
     "data": {
      "text/plain": [
       "{1: 'One', 2: 'Two', 3: 'Three'}"
      ]
     },
     "execution_count": 75,
     "metadata": {},
     "output_type": "execute_result"
    }
   ],
   "source": [
    "dict(zip(list1, list2))"
   ]
  },
  {
   "cell_type": "markdown",
   "id": "ee5ed575",
   "metadata": {},
   "source": [
    "### 5. Merge the following dictionatires into one and store it in variable `dict3`"
   ]
  },
  {
   "cell_type": "code",
   "execution_count": 76,
   "id": "0c918d95",
   "metadata": {},
   "outputs": [],
   "source": [
    "dict1 = {'Ten': 10, 'Twenty': 20, 'Thirty': 30}\n",
    "dict2 = {'Thirty': 30, 'Fourty': 40, 'Fifty': 50}"
   ]
  },
  {
   "cell_type": "markdown",
   "id": "aeeb76aa",
   "metadata": {},
   "source": [
    "### Solution"
   ]
  },
  {
   "cell_type": "code",
   "execution_count": 81,
   "id": "ce06b7a3",
   "metadata": {},
   "outputs": [
    {
     "data": {
      "text/plain": [
       "{'Ten': 10, 'Twenty': 20, 'Thirty': 30, 'Fourty': 40, 'Fifty': 50}"
      ]
     },
     "execution_count": 81,
     "metadata": {},
     "output_type": "execute_result"
    }
   ],
   "source": [
    "dict3 = {**dict1, **dict2}\n",
    "dict3"
   ]
  },
  {
   "cell_type": "code",
   "execution_count": null,
   "id": "95c8a91d",
   "metadata": {},
   "outputs": [],
   "source": []
  }
 ],
 "metadata": {
  "kernelspec": {
   "display_name": "Python 3",
   "language": "python",
   "name": "python3"
  },
  "language_info": {
   "codemirror_mode": {
    "name": "ipython",
    "version": 3
   },
   "file_extension": ".py",
   "mimetype": "text/x-python",
   "name": "python",
   "nbconvert_exporter": "python",
   "pygments_lexer": "ipython3",
   "version": "3.8.8"
  }
 },
 "nbformat": 4,
 "nbformat_minor": 5
}
