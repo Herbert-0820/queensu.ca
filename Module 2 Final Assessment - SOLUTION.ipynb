{
 "cells": [
  {
   "cell_type": "markdown",
   "id": "38592831",
   "metadata": {},
   "source": [
    "# Operators"
   ]
  },
  {
   "cell_type": "markdown",
   "id": "86a393ba",
   "metadata": {},
   "source": [
    "### 1. Check if two variables are equal"
   ]
  },
  {
   "cell_type": "code",
   "execution_count": 1,
   "id": "9afc80ab",
   "metadata": {},
   "outputs": [],
   "source": [
    "a = 10\n",
    "b = 10"
   ]
  },
  {
   "cell_type": "markdown",
   "id": "1b33923a",
   "metadata": {},
   "source": [
    "### Solution"
   ]
  },
  {
   "cell_type": "code",
   "execution_count": 2,
   "id": "9c1197ed",
   "metadata": {},
   "outputs": [
    {
     "data": {
      "text/plain": [
       "True"
      ]
     },
     "execution_count": 2,
     "metadata": {},
     "output_type": "execute_result"
    }
   ],
   "source": [
    "a == b"
   ]
  },
  {
   "cell_type": "markdown",
   "id": "3e2ce693",
   "metadata": {},
   "source": [
    "### 2. Check if both the following conditions are true:\n",
    "\n",
    "- a < b\n",
    "- b < c\n"
   ]
  },
  {
   "cell_type": "code",
   "execution_count": 7,
   "id": "55ef6a95",
   "metadata": {},
   "outputs": [],
   "source": [
    "a = 10\n",
    "b = 20\n",
    "c = 30"
   ]
  },
  {
   "cell_type": "markdown",
   "id": "13aa672c",
   "metadata": {},
   "source": [
    "### Solution"
   ]
  },
  {
   "cell_type": "code",
   "execution_count": 8,
   "id": "13169b7a",
   "metadata": {},
   "outputs": [
    {
     "data": {
      "text/plain": [
       "True"
      ]
     },
     "execution_count": 8,
     "metadata": {},
     "output_type": "execute_result"
    }
   ],
   "source": [
    "a < b and b < c"
   ]
  },
  {
   "cell_type": "markdown",
   "id": "00779c17",
   "metadata": {},
   "source": [
    "### 3. Check if a is member of x"
   ]
  },
  {
   "cell_type": "code",
   "execution_count": 14,
   "id": "11b87f90",
   "metadata": {},
   "outputs": [],
   "source": [
    "a = 10\n",
    "x = [1,2,3,4,5,6,7,8,9,10]"
   ]
  },
  {
   "cell_type": "markdown",
   "id": "983e539f",
   "metadata": {},
   "source": [
    "### Solution"
   ]
  },
  {
   "cell_type": "code",
   "execution_count": 15,
   "id": "3fc9a740",
   "metadata": {},
   "outputs": [
    {
     "data": {
      "text/plain": [
       "True"
      ]
     },
     "execution_count": 15,
     "metadata": {},
     "output_type": "execute_result"
    }
   ],
   "source": [
    "a in x"
   ]
  },
  {
   "cell_type": "markdown",
   "id": "c983e7f7",
   "metadata": {},
   "source": [
    "# Functions"
   ]
  },
  {
   "cell_type": "markdown",
   "id": "e09d464a",
   "metadata": {},
   "source": [
    "### 1. Define a function `convert_upper_case` with one argument `name`. The function returns the uppercase string back. "
   ]
  },
  {
   "cell_type": "markdown",
   "id": "90fadc54",
   "metadata": {},
   "source": [
    "### Solution"
   ]
  },
  {
   "cell_type": "code",
   "execution_count": 18,
   "id": "bd792038",
   "metadata": {},
   "outputs": [
    {
     "data": {
      "text/plain": [
       "'JAMES'"
      ]
     },
     "execution_count": 18,
     "metadata": {},
     "output_type": "execute_result"
    }
   ],
   "source": [
    "def convert_upper_case(name):\n",
    "    return name.upper()\n",
    "\n",
    "convert_upper_case('james')"
   ]
  },
  {
   "cell_type": "markdown",
   "id": "e52a8da4",
   "metadata": {},
   "source": [
    "### 2. Write a function `my_function` that takes two arguments, name and age, and print their value."
   ]
  },
  {
   "cell_type": "markdown",
   "id": "35c298e7",
   "metadata": {},
   "source": [
    "### Solution"
   ]
  },
  {
   "cell_type": "code",
   "execution_count": 20,
   "id": "39a44ba0",
   "metadata": {},
   "outputs": [
    {
     "name": "stdout",
     "output_type": "stream",
     "text": [
      "Jen 33\n"
     ]
    }
   ],
   "source": [
    "def my_function(name, age):\n",
    "    print(name, age)\n",
    "\n",
    "my_function(\"Jen\", 33)"
   ]
  },
  {
   "cell_type": "markdown",
   "id": "67c65b5b",
   "metadata": {},
   "source": [
    "### 3. Define a function `check_credit` which takes one argument `credit_score`. The function should behave as follows:\n",
    "\n",
    "- if the input `credit_score` is <= 600 the function should print \"Your loan is not approved\".\n",
    "- if the input `credit_score` is > 600 the function should print \"Your loan is approved\n",
    "\n",
    "Execute the function with 720 credit score"
   ]
  },
  {
   "cell_type": "markdown",
   "id": "e2472662",
   "metadata": {},
   "source": [
    "### Solution"
   ]
  },
  {
   "cell_type": "code",
   "execution_count": 26,
   "id": "f71f760e",
   "metadata": {},
   "outputs": [
    {
     "name": "stdout",
     "output_type": "stream",
     "text": [
      "Your loan is approved\n"
     ]
    }
   ],
   "source": [
    "def check_credit(credit_score):\n",
    "    if credit_score <= 600:\n",
    "        print(\"Your loan is not approved\")\n",
    "    else:\n",
    "        print(\"Your loan is approved\")\n",
    "        \n",
    "check_credit(720)"
   ]
  },
  {
   "cell_type": "markdown",
   "id": "5ae89999",
   "metadata": {},
   "source": [
    "### 4. Define a function `return_max` that takes one argument `numbers` which is a list. Function should return the max value from the list. Use `list1` to execute the function."
   ]
  },
  {
   "cell_type": "code",
   "execution_count": 27,
   "id": "cea7cf8e",
   "metadata": {},
   "outputs": [],
   "source": [
    "list1 = [1,2,3,60,100,200,600,1000]"
   ]
  },
  {
   "cell_type": "markdown",
   "id": "82bcc0a1",
   "metadata": {},
   "source": [
    "### Solution"
   ]
  },
  {
   "cell_type": "code",
   "execution_count": 31,
   "id": "28c181ad",
   "metadata": {},
   "outputs": [
    {
     "data": {
      "text/plain": [
       "1000"
      ]
     },
     "execution_count": 31,
     "metadata": {},
     "output_type": "execute_result"
    }
   ],
   "source": [
    "def return_max(numbers):\n",
    "    return max(numbers)\n",
    "\n",
    "return_max(list1)"
   ]
  },
  {
   "cell_type": "markdown",
   "id": "fd3a9542",
   "metadata": {},
   "source": [
    "### 5. Define a function `convert_to_dict` that takes two arguments `list1` and `list2` and convert them into `dictionary`. Use `my_list1` and `my_list2` to execute this function and show results. "
   ]
  },
  {
   "cell_type": "code",
   "execution_count": 34,
   "id": "801d2ac4",
   "metadata": {},
   "outputs": [],
   "source": [
    "my_list1 = [1, 2, 3]\n",
    "my_list2 = ['One', 'Two', 'Three']"
   ]
  },
  {
   "cell_type": "markdown",
   "id": "819f4181",
   "metadata": {},
   "source": [
    "### Solution"
   ]
  },
  {
   "cell_type": "code",
   "execution_count": 36,
   "id": "da0f3dfa",
   "metadata": {},
   "outputs": [
    {
     "data": {
      "text/plain": [
       "{1: 'One', 2: 'Two', 3: 'Three'}"
      ]
     },
     "execution_count": 36,
     "metadata": {},
     "output_type": "execute_result"
    }
   ],
   "source": [
    "def convert_to_dict(list1, list2):\n",
    "    return dict(zip(list1, list2))\n",
    "\n",
    "convert_to_dict(my_list1, my_list2,)"
   ]
  },
  {
   "cell_type": "markdown",
   "id": "e15153c7",
   "metadata": {},
   "source": [
    "# Loops"
   ]
  },
  {
   "cell_type": "markdown",
   "id": "5023d50d",
   "metadata": {},
   "source": [
    "### 1. Print first 10 natural numbers using while loop."
   ]
  },
  {
   "cell_type": "markdown",
   "id": "1ee619a3",
   "metadata": {},
   "source": [
    "### Solution"
   ]
  },
  {
   "cell_type": "code",
   "execution_count": 37,
   "id": "5e9df862",
   "metadata": {},
   "outputs": [
    {
     "name": "stdout",
     "output_type": "stream",
     "text": [
      "1\n",
      "2\n",
      "3\n",
      "4\n",
      "5\n",
      "6\n",
      "7\n",
      "8\n",
      "9\n",
      "10\n"
     ]
    }
   ],
   "source": [
    "i = 1\n",
    "while i <= 10:\n",
    "    print(i)\n",
    "    i += 1"
   ]
  },
  {
   "cell_type": "markdown",
   "id": "e1411862",
   "metadata": {},
   "source": [
    "### 2. Print first 10 natural numbers using for loop."
   ]
  },
  {
   "cell_type": "markdown",
   "id": "05a4b0cd",
   "metadata": {},
   "source": [
    "### Solution"
   ]
  },
  {
   "cell_type": "code",
   "execution_count": 39,
   "id": "65da8f9f",
   "metadata": {},
   "outputs": [
    {
     "name": "stdout",
     "output_type": "stream",
     "text": [
      "1\n",
      "2\n",
      "3\n",
      "4\n",
      "5\n",
      "6\n",
      "7\n",
      "8\n",
      "9\n",
      "10\n"
     ]
    }
   ],
   "source": [
    "for i in range(1,11):\n",
    "    print(i)"
   ]
  },
  {
   "cell_type": "markdown",
   "id": "f9e45daa",
   "metadata": {},
   "source": [
    "### 3. Convert all the names into upper case and store in a list `my_result`"
   ]
  },
  {
   "cell_type": "code",
   "execution_count": 40,
   "id": "3c739916",
   "metadata": {},
   "outputs": [],
   "source": [
    "cities = ['toronto', 'new york', 'california', 'tokyo', 'colorado']"
   ]
  },
  {
   "cell_type": "markdown",
   "id": "bfbf9e24",
   "metadata": {},
   "source": [
    "### Solution"
   ]
  },
  {
   "cell_type": "code",
   "execution_count": 41,
   "id": "a8357e6d",
   "metadata": {},
   "outputs": [
    {
     "data": {
      "text/plain": [
       "['TORONTO', 'NEW YORK', 'CALIFORNIA', 'TOKYO', 'COLORADO']"
      ]
     },
     "execution_count": 41,
     "metadata": {},
     "output_type": "execute_result"
    }
   ],
   "source": [
    "my_result = []\n",
    "\n",
    "for i in cities:\n",
    "    my_result.append(i.upper())\n",
    "\n",
    "my_result"
   ]
  },
  {
   "cell_type": "markdown",
   "id": "00d566d4",
   "metadata": {},
   "source": [
    "### 4. Write a loop to display elements from a given list present at odd index positions"
   ]
  },
  {
   "cell_type": "code",
   "execution_count": 1,
   "id": "f0ca0bf8",
   "metadata": {},
   "outputs": [],
   "source": [
    "my_list = [10, 20, 30, 40, 50, 60, 70, 80, 90, 100]"
   ]
  },
  {
   "cell_type": "markdown",
   "id": "f3b518aa",
   "metadata": {},
   "source": [
    "### Solution"
   ]
  },
  {
   "cell_type": "code",
   "execution_count": 4,
   "id": "74df73f3",
   "metadata": {},
   "outputs": [
    {
     "name": "stdout",
     "output_type": "stream",
     "text": [
      "20 40 60 80 100 "
     ]
    }
   ],
   "source": [
    "for i in my_list[1::2]:\n",
    "    print(i,  end=\" \")"
   ]
  },
  {
   "cell_type": "markdown",
   "id": "4f175b0e",
   "metadata": {},
   "source": [
    "### 5. Write a loop to display only those numbers from a list that satisfy the following conditions\n",
    "\n",
    "- The number must be divisible by five\n",
    "- If the number is greater than 150, then skip it and move to the next number\n",
    "- If the number is greater than 500, then stop the loop"
   ]
  },
  {
   "cell_type": "code",
   "execution_count": 5,
   "id": "ff012ac5",
   "metadata": {},
   "outputs": [],
   "source": [
    "numbers = [12, 75, 150, 180, 145, 525, 50]"
   ]
  },
  {
   "cell_type": "markdown",
   "id": "ccdeb7ea",
   "metadata": {},
   "source": [
    "### Solution"
   ]
  },
  {
   "cell_type": "code",
   "execution_count": 6,
   "id": "c0ce3571",
   "metadata": {},
   "outputs": [
    {
     "name": "stdout",
     "output_type": "stream",
     "text": [
      "75\n",
      "150\n",
      "145\n"
     ]
    }
   ],
   "source": [
    "for i in numbers:\n",
    "    if i > 500:\n",
    "        break\n",
    "    elif i > 150:\n",
    "        continue\n",
    "    elif i % 5 == 0:\n",
    "        print(i)"
   ]
  }
 ],
 "metadata": {
  "kernelspec": {
   "display_name": "Python 3",
   "language": "python",
   "name": "python3"
  },
  "language_info": {
   "codemirror_mode": {
    "name": "ipython",
    "version": 3
   },
   "file_extension": ".py",
   "mimetype": "text/x-python",
   "name": "python",
   "nbconvert_exporter": "python",
   "pygments_lexer": "ipython3",
   "version": "3.8.8"
  }
 },
 "nbformat": 4,
 "nbformat_minor": 5
}
