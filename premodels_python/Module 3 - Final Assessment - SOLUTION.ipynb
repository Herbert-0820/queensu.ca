{
 "cells": [
  {
   "cell_type": "code",
   "execution_count": 4,
   "id": "42fd0f28",
   "metadata": {},
   "outputs": [],
   "source": [
    "import numpy as np\n",
    "\n",
    "# Set random seed so that results are reproducible \n",
    "np.random.seed(0)"
   ]
  },
  {
   "cell_type": "markdown",
   "id": "fc5e679a",
   "metadata": {},
   "source": [
    "### 1. Generate three separate 1-dimensional arrays of 10,000 elements each.\n",
    "- Array 1 should contain numbers randomly drawn from the uniform distribution between 1 and 100\n",
    "- Array 2 should contain numbers randomly drawn from the normal distribution, with a mean of 0 and a standard deviation of 1\n",
    "- Array 3 should contain numbers randomly drawn from the binomial distribution, where n=10 and p=0.5"
   ]
  },
  {
   "cell_type": "markdown",
   "id": "12eb24e7",
   "metadata": {},
   "source": [
    "### Solution"
   ]
  },
  {
   "cell_type": "code",
   "execution_count": 8,
   "id": "672aac61",
   "metadata": {},
   "outputs": [
    {
     "name": "stdout",
     "output_type": "stream",
     "text": [
      "[55.33253689 71.80374727 60.67357423 ... 76.08452255  3.35495532\n",
      " 81.54393292]\n",
      "[-0.72582032  0.56347552 -0.43563209 ... -0.48621622 -2.04550028\n",
      "  1.03931951]\n",
      "[4 5 5 ... 5 4 4]\n"
     ]
    }
   ],
   "source": [
    "np.random.seed(0)\n",
    "\n",
    "arr1 = np.random.uniform(1, 100, 10000)\n",
    "arr2 = np.random.normal(0, 1, 10000)\n",
    "arr3 = np.random.binomial(10, .5, 10000)\n",
    "\n",
    "print(arr1)\n",
    "print(arr2)\n",
    "print(arr3)"
   ]
  },
  {
   "cell_type": "markdown",
   "id": "e7de003e",
   "metadata": {},
   "source": [
    "### 2. For each array, randomly sample 1,000 rows without replacement and print shape of new arrays (hint: `np.random.choice()`)"
   ]
  },
  {
   "cell_type": "markdown",
   "id": "c26a688a",
   "metadata": {},
   "source": [
    "### Solution"
   ]
  },
  {
   "cell_type": "code",
   "execution_count": 15,
   "id": "bf79325a",
   "metadata": {
    "scrolled": false
   },
   "outputs": [
    {
     "name": "stdout",
     "output_type": "stream",
     "text": [
      "(1000,)\n",
      "(1000,)\n",
      "(1000,)\n"
     ]
    }
   ],
   "source": [
    "np.random.seed(0)\n",
    "\n",
    "arr1_samp = np.random.choice(arr1, 1000, replace=False)\n",
    "arr2_samp = np.random.choice(arr2, 1000, replace=False)\n",
    "arr3_samp = np.random.choice(arr3, 1000, replace=False)\n",
    "\n",
    "print(arr1_samp.shape)\n",
    "print(arr2_samp.shape)\n",
    "print(arr3_samp.shape)"
   ]
  },
  {
   "cell_type": "markdown",
   "id": "6c6177dd",
   "metadata": {},
   "source": [
    "### 3. For each of the three samples:  \n",
    "- Calculate the mean, median, and standard deviation \n",
    "- Find the index and the value of the largest element (hint: `np.argmax()`)  \n",
    "- Find the value of the 75th percentile (hint: `np.percentile()`)  "
   ]
  },
  {
   "cell_type": "markdown",
   "id": "73f06623",
   "metadata": {},
   "source": [
    "### Solution"
   ]
  },
  {
   "cell_type": "code",
   "execution_count": 16,
   "id": "81b713f0",
   "metadata": {},
   "outputs": [
    {
     "name": "stdout",
     "output_type": "stream",
     "text": [
      "\n",
      "Sample #1\n",
      "Mean: 50.5667844252836\n",
      "Median: 51.154758164405166\n",
      "Standard deviation: 28.698605751811936\n",
      "Index of largest: 920\n",
      "Value of largest: 99.99643783571764\n",
      "75th Percentile: 74.66284426458829\n",
      "\n",
      "Sample #2\n",
      "Mean: 0.031445148760512014\n",
      "Median: -0.046725721435603405\n",
      "Standard deviation: 0.9982063664273709\n",
      "Index of largest: 625\n",
      "Value of largest: 3.598310102305438\n",
      "75th Percentile: 0.7124560005954285\n",
      "\n",
      "Sample #3\n",
      "Mean: 5.092\n",
      "Median: 5.0\n",
      "Standard deviation: 1.5380299086818825\n",
      "Index of largest: 253\n",
      "Value of largest: 10\n",
      "75th Percentile: 6.0\n"
     ]
    }
   ],
   "source": [
    "for i, samp in enumerate([arr1_samp, arr2_samp, arr3_samp]):\n",
    "    print(f\"\\nSample #{i+1}\")\n",
    "    print(f\"Mean: {np.mean(samp)}\")\n",
    "    print(f\"Median: {np.median(samp)}\")\n",
    "    print(f\"Standard deviation: {np.std(samp)}\")\n",
    "    print(f\"Index of largest: {np.argmax(samp)}\")\n",
    "    print(f\"Value of largest: {np.max(samp)}\")\n",
    "    print(f\"75th Percentile: {np.percentile(samp, 75)}\")"
   ]
  },
  {
   "cell_type": "markdown",
   "id": "8436310c",
   "metadata": {},
   "source": [
    "### 4. Sort each of the three samples in increasing order, then combine them together to create a 1,000 by 3 array. (hint: `np.sort()` and `np.stack()`)"
   ]
  },
  {
   "cell_type": "markdown",
   "id": "b44a0ff6",
   "metadata": {},
   "source": [
    "### Solution"
   ]
  },
  {
   "cell_type": "code",
   "execution_count": 18,
   "id": "89c815ce",
   "metadata": {},
   "outputs": [
    {
     "name": "stdout",
     "output_type": "stream",
     "text": [
      "[[ 1.00717251 -3.1699786   1.        ]\n",
      " [ 1.01488773 -2.53176467  1.        ]\n",
      " [ 1.04860542 -2.40475651  1.        ]\n",
      " ...\n",
      " [99.80425599  3.03075787  9.        ]\n",
      " [99.98104923  3.46838338  9.        ]\n",
      " [99.99643784  3.5983101  10.        ]]\n"
     ]
    }
   ],
   "source": [
    "arr = np.stack([np.sort(arr1_samp), np.sort(arr2_samp), np.sort(arr3_samp)], axis=1)\n",
    "print(arr)"
   ]
  },
  {
   "cell_type": "markdown",
   "id": "560dbf7a",
   "metadata": {},
   "source": [
    "### 5. Check the min and max value of array and then replace all negative values with 0. Replace all values that exceed 10 with 10. Once done, recheck the min and max again."
   ]
  },
  {
   "cell_type": "markdown",
   "id": "597325ea",
   "metadata": {},
   "source": [
    "### Solution"
   ]
  },
  {
   "cell_type": "code",
   "execution_count": 21,
   "id": "58e9002e",
   "metadata": {},
   "outputs": [
    {
     "name": "stdout",
     "output_type": "stream",
     "text": [
      "-3.169978597207576\n",
      "99.99643783571764\n",
      "0.0\n",
      "10.0\n"
     ]
    }
   ],
   "source": [
    "print(arr.min())\n",
    "print(arr.max())\n",
    "\n",
    "arr[arr < 0] = 0\n",
    "arr[arr > 10] = 10\n",
    "\n",
    "print(arr.min())\n",
    "print(arr.max())"
   ]
  },
  {
   "cell_type": "markdown",
   "id": "dd46c2d5",
   "metadata": {},
   "source": [
    "### 6. Subtract 5 from all values that exceed 5. (hint: `np.where()`)"
   ]
  },
  {
   "cell_type": "markdown",
   "id": "338b2d9c",
   "metadata": {},
   "source": [
    "### Solution"
   ]
  },
  {
   "cell_type": "code",
   "execution_count": 22,
   "id": "eb3355ed",
   "metadata": {},
   "outputs": [
    {
     "data": {
      "text/plain": [
       "array([[1.00717251, 0.        , 1.        ],\n",
       "       [1.01488773, 0.        , 1.        ],\n",
       "       [1.04860542, 0.        , 1.        ],\n",
       "       ...,\n",
       "       [5.        , 3.03075787, 4.        ],\n",
       "       [5.        , 3.46838338, 4.        ],\n",
       "       [5.        , 3.5983101 , 5.        ]])"
      ]
     },
     "execution_count": 22,
     "metadata": {},
     "output_type": "execute_result"
    }
   ],
   "source": [
    "arr = np.where(arr > 5, arr-5, arr)\n",
    "arr"
   ]
  },
  {
   "cell_type": "markdown",
   "id": "9fddc48a",
   "metadata": {},
   "source": [
    "### 7. Produce a fourth column that is the sum of the first two columns.  (hint: `np.hstack()`)"
   ]
  },
  {
   "cell_type": "markdown",
   "id": "ea0c5a1f",
   "metadata": {},
   "source": [
    "### Solution"
   ]
  },
  {
   "cell_type": "code",
   "execution_count": 23,
   "id": "8d88afbd",
   "metadata": {},
   "outputs": [
    {
     "data": {
      "text/plain": [
       "array([[1.00717251, 0.        , 1.        , 1.00717251],\n",
       "       [1.01488773, 0.        , 1.        , 1.01488773],\n",
       "       [1.04860542, 0.        , 1.        , 1.04860542],\n",
       "       ...,\n",
       "       [5.        , 3.03075787, 4.        , 8.03075787],\n",
       "       [5.        , 3.46838338, 4.        , 8.46838338],\n",
       "       [5.        , 3.5983101 , 5.        , 8.5983101 ]])"
      ]
     },
     "execution_count": 23,
     "metadata": {},
     "output_type": "execute_result"
    }
   ],
   "source": [
    "new_arr = np.expand_dims(arr[:, 0] + arr[:, 1], axis=1)\n",
    "arr = np.hstack((arr, new_arr))\n",
    "arr"
   ]
  },
  {
   "cell_type": "markdown",
   "id": "2dba576a",
   "metadata": {},
   "source": [
    "### 8. Use broadcasting to add 1 to each element of the first column, 2 to each element of the second column, 3 to each element of the third column, and 4 to each element of the fourth column."
   ]
  },
  {
   "cell_type": "markdown",
   "id": "52dba6ed",
   "metadata": {},
   "source": [
    "### Solution"
   ]
  },
  {
   "cell_type": "code",
   "execution_count": 24,
   "id": "b647471b",
   "metadata": {},
   "outputs": [
    {
     "data": {
      "text/plain": [
       "array([[ 2.00717251,  2.        ,  4.        ,  5.00717251],\n",
       "       [ 2.01488773,  2.        ,  4.        ,  5.01488773],\n",
       "       [ 2.04860542,  2.        ,  4.        ,  5.04860542],\n",
       "       ...,\n",
       "       [ 6.        ,  5.03075787,  7.        , 12.03075787],\n",
       "       [ 6.        ,  5.46838338,  7.        , 12.46838338],\n",
       "       [ 6.        ,  5.5983101 ,  8.        , 12.5983101 ]])"
      ]
     },
     "execution_count": 24,
     "metadata": {},
     "output_type": "execute_result"
    }
   ],
   "source": [
    "arr += np.array([1,2,3,4])\n",
    "arr"
   ]
  },
  {
   "cell_type": "code",
   "execution_count": null,
   "id": "7834a367",
   "metadata": {},
   "outputs": [],
   "source": []
  }
 ],
 "metadata": {
  "kernelspec": {
   "display_name": "Python 3",
   "language": "python",
   "name": "python3"
  },
  "language_info": {
   "codemirror_mode": {
    "name": "ipython",
    "version": 3
   },
   "file_extension": ".py",
   "mimetype": "text/x-python",
   "name": "python",
   "nbconvert_exporter": "python",
   "pygments_lexer": "ipython3",
   "version": "3.8.8"
  }
 },
 "nbformat": 4,
 "nbformat_minor": 5
}
