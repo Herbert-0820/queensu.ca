{
 "cells": [
  {
   "cell_type": "code",
   "execution_count": 213,
   "id": "8ea05bb2",
   "metadata": {},
   "outputs": [],
   "source": [
    "import numpy as np\n",
    "\n",
    "# Set random seed so that results are reproducible \n",
    "np.random.seed(0)"
   ]
  },
  {
   "cell_type": "markdown",
   "id": "042cfab9",
   "metadata": {},
   "source": [
    "### 1. Generate three separate 1-dimensional arrays of 10,000 elements each.\n",
    "- Array 1 should contain numbers randomly drawn from the uniform distribution between 1 and 100\n",
    "- Array 2 should contain numbers randomly drawn from the normal distribution, with a mean of 0 and a standard deviation of 1\n",
    "- Array 3 should contain numbers randomly drawn from the binomial distribution, where n=10 and p=0.5"
   ]
  },
  {
   "cell_type": "markdown",
   "id": "c8f04ebf",
   "metadata": {},
   "source": [
    "### Solution"
   ]
  },
  {
   "cell_type": "code",
   "execution_count": 217,
   "id": "1ee7953b-c366-4865-9e2c-df45f3131736",
   "metadata": {},
   "outputs": [
    {
     "name": "stdout",
     "output_type": "stream",
     "text": [
      "[55.33253689 71.80374727 60.67357423 ... 76.08452255  3.35495532\n",
      " 81.54393292]\n",
      "[-0.72582032  0.56347552 -0.43563209 ... -0.48621622 -2.04550028\n",
      "  1.03931951]\n",
      "[4 5 5 ... 5 4 4]\n"
     ]
    }
   ],
   "source": [
    "array1 = np.random.uniform(1, 100, 10000)\n",
    "array2 = np.random.normal(0, 1, 10000)\n",
    "array3 = np.random.binomial(10, 0.5, 10000)\n",
    "\n",
    "print(array1)\n",
    "print(array2)\n",
    "print(array3)"
   ]
  },
  {
   "cell_type": "markdown",
   "id": "c712bea6",
   "metadata": {},
   "source": [
    "### 2. For each array, randomly sample 1,000 rows without replacement and print shape of new arrays (hint: `np.random.choice()`)"
   ]
  },
  {
   "cell_type": "markdown",
   "id": "7b2a4521",
   "metadata": {},
   "source": [
    "### Solution"
   ]
  },
  {
   "cell_type": "code",
   "execution_count": 221,
   "id": "d2576a26",
   "metadata": {},
   "outputs": [
    {
     "name": "stdout",
     "output_type": "stream",
     "text": [
      "(1000,)\n",
      "(1000,)\n",
      "(1000,)\n"
     ]
    }
   ],
   "source": [
    "sampled_array1 = np.random.choice(array1, 1000, replace=False)\n",
    "print(sampled_array1.shape)\n",
    "sampled_array2 = np.random.choice(array2, 1000, replace=False)\n",
    "print(sampled_array2.shape)\n",
    "sampled_array3 = np.random.choice(array3, 1000, replace=False)\n",
    "print(sampled_array3.shape)"
   ]
  },
  {
   "cell_type": "markdown",
   "id": "124724d9",
   "metadata": {},
   "source": [
    "### 3. For each of the three samples:  \n",
    "- Calculate the mean, median, and standard deviation \n",
    "- Find the index and the value of the largest element (hint: `np.argmax()`)  \n",
    "- Find the value of the 75th percentile (hint: `np.percentile()`)  "
   ]
  },
  {
   "cell_type": "markdown",
   "id": "e9f7854f",
   "metadata": {},
   "source": [
    "### Solution"
   ]
  },
  {
   "cell_type": "code",
   "execution_count": 225,
   "id": "e403dbb6",
   "metadata": {},
   "outputs": [
    {
     "name": "stdout",
     "output_type": "stream",
     "text": [
      "Sample #1\n",
      "Mean: 50.552213219585695\n",
      "Median: 50.00499476743026\n",
      "Standard deviation: 28.406698883921372\n",
      "Index of largest: 255\n",
      "Value of largest: 99.83117493278014\n",
      "75th Percentile: 75.20925502271464\n",
      "\n",
      "Sample #2\n",
      "Mean: -0.03398671921971037\n",
      "Median: -0.026937092247233608\n",
      "Standard deviation: 0.9747233951952765\n",
      "Index of largest: 628\n",
      "Value of largest: 2.699568441630259\n",
      "75th Percentile: 0.6323050377198595\n",
      "\n",
      "Sample #3\n",
      "Mean: 4.896\n",
      "Median: 5.0\n",
      "Standard deviation: 1.562428878381349\n",
      "Index of largest: 7\n",
      "Value of largest: 10\n",
      "75th Percentile: 6.0\n"
     ]
    }
   ],
   "source": [
    "# Function to calculate required statistics \n",
    "def calculate_stats(array): \n",
    "    mean = np.mean(array) \n",
    "    median = np.median(array) \n",
    "    std_dev = np.std(array) \n",
    "    max_index = np.argmax(array) \n",
    "    max_value = array[max_index] \n",
    "    percentile_75 = np.percentile(array, 75) \n",
    "    \n",
    "    return { \n",
    "        \"Mean\": mean, \n",
    "        \"Median\": median, \n",
    "        \"Standard deviation\": std_dev, \n",
    "        \"Index of largest\": max_index, \n",
    "        \"Value of largest\": max_value, \n",
    "        \"75th Percentile\": percentile_75 \n",
    "    } \n",
    "# Calculate and print statistics for each sample \n",
    "stats_sample1 = calculate_stats(sampled_array1) \n",
    "stats_sample2 = calculate_stats(sampled_array2) \n",
    "stats_sample3 = calculate_stats(sampled_array3) \n",
    "    \n",
    "print(\"Sample #1\") \n",
    "for key, value in stats_sample1.items(): \n",
    "    print(f\"{key}: {value}\") \n",
    "    \n",
    "print(\"\\nSample #2\") \n",
    "for key, value in stats_sample2.items(): \n",
    "    print(f\"{key}: {value}\") \n",
    "    \n",
    "print(\"\\nSample #3\") \n",
    "for key, value in stats_sample3.items(): \n",
    "    print(f\"{key}: {value}\")"
   ]
  },
  {
   "cell_type": "markdown",
   "id": "1d51cae4",
   "metadata": {},
   "source": [
    "### 4. Sort each of the three samples in increasing order, then combine them together to create a 1,000 by 3 array. (hint: `np.sort()` and `np.stack()`)"
   ]
  },
  {
   "cell_type": "markdown",
   "id": "e508e6df",
   "metadata": {},
   "source": [
    "### Solution"
   ]
  },
  {
   "cell_type": "code",
   "execution_count": 229,
   "id": "50b81890",
   "metadata": {},
   "outputs": [
    {
     "name": "stdout",
     "output_type": "stream",
     "text": [
      "[[ 1.1110819  -3.69428529  1.        ]\n",
      " [ 1.13557152 -3.01787832  1.        ]\n",
      " [ 1.13695165 -2.92415314  1.        ]\n",
      " ...\n",
      " [99.57570491  2.52860191  9.        ]\n",
      " [99.65852424  2.55385416 10.        ]\n",
      " [99.83117493  2.69956844 10.        ]]\n"
     ]
    }
   ],
   "source": [
    "# Sort each sample in increasing order\n",
    "sorted_sample1 = np.sort(sampled_array1)\n",
    "sorted_sample2 = np.sort(sampled_array2)\n",
    "sorted_sample3 = np.sort(sampled_array3)\n",
    "\n",
    "# Combine the sorted samples into a 1,000 by 3 array\n",
    "combined_array = np.stack((sorted_sample1, sorted_sample2, sorted_sample3), axis=1)\n",
    "\n",
    "print(combined_array)"
   ]
  },
  {
   "cell_type": "markdown",
   "id": "bf12fd95",
   "metadata": {},
   "source": [
    "### 5. Check the min and max value of array and then replace all negative values with 0. Replace all values that exceed 10 with 10. Once done, recheck the min and max again."
   ]
  },
  {
   "cell_type": "markdown",
   "id": "aba6b4f9",
   "metadata": {},
   "source": [
    "### Solution"
   ]
  },
  {
   "cell_type": "code",
   "execution_count": 233,
   "id": "e2df3f56",
   "metadata": {},
   "outputs": [
    {
     "name": "stdout",
     "output_type": "stream",
     "text": [
      "Initial min: -3.6942852922787712\n",
      "Initial max: 99.83117493278014\n",
      "Final min: 0.0\n",
      "Final max: 10.0\n"
     ]
    }
   ],
   "source": [
    "# Check initial min and max values\n",
    "initial_min = np.min(combined_array)\n",
    "initial_max = np.max(combined_array)\n",
    "\n",
    "print(\"Initial min:\", initial_min)\n",
    "print(\"Initial max:\", initial_max)\n",
    "\n",
    "# Replace negative values with 0 and values greater than 10 with 10\n",
    "combined_array[combined_array < 0] = 0\n",
    "combined_array[combined_array > 10] = 10\n",
    "\n",
    "# Check min and max values after replacement\n",
    "final_min = np.min(combined_array)\n",
    "final_max = np.max(combined_array)\n",
    "\n",
    "print(\"Final min:\", final_min)\n",
    "print(\"Final max:\", final_max)"
   ]
  },
  {
   "cell_type": "markdown",
   "id": "aa2e12aa",
   "metadata": {},
   "source": [
    "### 6. Subtract 5 from all values that exceed 5. (hint: `np.where()`)"
   ]
  },
  {
   "cell_type": "markdown",
   "id": "1ab2d4d5",
   "metadata": {},
   "source": [
    "### Solution"
   ]
  },
  {
   "cell_type": "code",
   "execution_count": 237,
   "id": "d26e3239",
   "metadata": {},
   "outputs": [
    {
     "name": "stdout",
     "output_type": "stream",
     "text": [
      "[[1.1110819  0.         1.        ]\n",
      " [1.13557152 0.         1.        ]\n",
      " [1.13695165 0.         1.        ]\n",
      " ...\n",
      " [5.         2.52860191 4.        ]\n",
      " [5.         2.55385416 5.        ]\n",
      " [5.         2.69956844 5.        ]]\n"
     ]
    }
   ],
   "source": [
    "# Subtract 5 from all values that exceed 5\n",
    "combined_array = np.where(combined_array > 5, combined_array - 5, combined_array)\n",
    "\n",
    "print(combined_array)"
   ]
  },
  {
   "cell_type": "markdown",
   "id": "f989dce7",
   "metadata": {},
   "source": [
    "### 7. Produce a fourth column that is the sum of the first two columns.  (hint: `np.hstack()`)"
   ]
  },
  {
   "cell_type": "markdown",
   "id": "3510ed2a",
   "metadata": {},
   "source": [
    "### Solution"
   ]
  },
  {
   "cell_type": "code",
   "execution_count": 241,
   "id": "aff86c1a",
   "metadata": {},
   "outputs": [
    {
     "name": "stdout",
     "output_type": "stream",
     "text": [
      "[[1.1110819  0.         1.         1.1110819 ]\n",
      " [1.13557152 0.         1.         1.13557152]\n",
      " [1.13695165 0.         1.         1.13695165]\n",
      " ...\n",
      " [5.         2.52860191 4.         7.52860191]\n",
      " [5.         2.55385416 5.         7.55385416]\n",
      " [5.         2.69956844 5.         7.69956844]]\n"
     ]
    }
   ],
   "source": [
    "# Produce a fourth column that is the sum of the first two columns\n",
    "fourth_column = combined_array[:, 0] + combined_array[:, 1]\n",
    "\n",
    "# Combine the new column with the existing array\n",
    "final_array = np.hstack((combined_array, fourth_column.reshape(-1, 1)))\n",
    "\n",
    "print(final_array)\n"
   ]
  },
  {
   "cell_type": "markdown",
   "id": "ab6229d0",
   "metadata": {},
   "source": [
    "### 8. Use broadcasting to add 1 to each element of the first column, 2 to each element of the second column, 3 to each element of the third column, and 4 to each element of the fourth column."
   ]
  },
  {
   "cell_type": "markdown",
   "id": "fdcfbbf4",
   "metadata": {},
   "source": [
    "### Solution"
   ]
  },
  {
   "cell_type": "code",
   "execution_count": 245,
   "id": "ae025589",
   "metadata": {},
   "outputs": [
    {
     "name": "stdout",
     "output_type": "stream",
     "text": [
      "[[ 2.1110819   2.          4.          5.1110819 ]\n",
      " [ 2.13557152  2.          4.          5.13557152]\n",
      " [ 2.13695165  2.          4.          5.13695165]\n",
      " ...\n",
      " [ 6.          4.52860191  7.         11.52860191]\n",
      " [ 6.          4.55385416  8.         11.55385416]\n",
      " [ 6.          4.69956844  8.         11.69956844]]\n"
     ]
    }
   ],
   "source": [
    "\n",
    "# Produce a fourth column that is the sum of the first two columns\n",
    "fourth_column = combined_array[:, 0] + combined_array[:, 1]\n",
    "\n",
    "# Combine the new column with the existing array\n",
    "final_array = np.hstack((combined_array, fourth_column.reshape(-1, 1)))\n",
    "\n",
    "# Use broadcasting to add specified values to each column\n",
    "final_array += np.array([1, 2, 3, 4])\n",
    "\n",
    "print(final_array)\n",
    "\n"
   ]
  },
  {
   "cell_type": "code",
   "execution_count": null,
   "id": "331cd808",
   "metadata": {},
   "outputs": [],
   "source": []
  },
  {
   "cell_type": "code",
   "execution_count": null,
   "id": "e5dc938a-107c-4705-9599-db06fd819c5f",
   "metadata": {},
   "outputs": [],
   "source": []
  },
  {
   "cell_type": "code",
   "execution_count": null,
   "id": "da85ebd5-82d1-4692-affb-ff2900aaf9db",
   "metadata": {},
   "outputs": [],
   "source": []
  }
 ],
 "metadata": {
  "kernelspec": {
   "display_name": "PythonData",
   "language": "python",
   "name": "pythondata"
  },
  "language_info": {
   "codemirror_mode": {
    "name": "ipython",
    "version": 3
   },
   "file_extension": ".py",
   "mimetype": "text/x-python",
   "name": "python",
   "nbconvert_exporter": "python",
   "pygments_lexer": "ipython3",
   "version": "3.12.7"
  }
 },
 "nbformat": 4,
 "nbformat_minor": 5
}
