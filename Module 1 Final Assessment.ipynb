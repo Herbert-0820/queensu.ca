{
 "cells": [
  {
   "cell_type": "markdown",
   "id": "a0986df2",
   "metadata": {},
   "source": [
    "# Python Variables"
   ]
  },
  {
   "cell_type": "markdown",
   "id": "df148881",
   "metadata": {},
   "source": [
    "### 1. Create a variable name `fruit` with value `orange` and print `fruit`"
   ]
  },
  {
   "cell_type": "markdown",
   "id": "253718f3",
   "metadata": {},
   "source": [
    "### Solution"
   ]
  },
  {
   "cell_type": "code",
   "execution_count": 6,
   "id": "a7cd8e15",
   "metadata": {},
   "outputs": [
    {
     "name": "stdout",
     "output_type": "stream",
     "text": [
      "orange\n"
     ]
    }
   ],
   "source": [
    "fruit = 'orange'\n",
    "print(fruit)"
   ]
  },
  {
   "cell_type": "markdown",
   "id": "45dce7dd",
   "metadata": {},
   "source": [
    "### 2. Check the type of the variable `fruit`"
   ]
  },
  {
   "cell_type": "markdown",
   "id": "1622e0b2",
   "metadata": {},
   "source": [
    "### Solution"
   ]
  },
  {
   "cell_type": "code",
   "execution_count": 14,
   "id": "672fcff1",
   "metadata": {},
   "outputs": [
    {
     "data": {
      "text/plain": [
       "str"
      ]
     },
     "execution_count": 14,
     "metadata": {},
     "output_type": "execute_result"
    }
   ],
   "source": [
    "type(fruit)"
   ]
  },
  {
   "cell_type": "markdown",
   "id": "a5c5e2a4",
   "metadata": {},
   "source": [
    "### 3. Create two variables `my_float` and `my_int` with values 9.99 and 9 respectively and print their types"
   ]
  },
  {
   "cell_type": "markdown",
   "id": "8cc75b5f",
   "metadata": {},
   "source": [
    "### Solution"
   ]
  },
  {
   "cell_type": "code",
   "execution_count": 16,
   "id": "4b619982",
   "metadata": {},
   "outputs": [
    {
     "name": "stdout",
     "output_type": "stream",
     "text": [
      "<class 'float'>\n",
      "<class 'int'>\n"
     ]
    }
   ],
   "source": [
    "my_float = 9.99\n",
    "my_int = 9\n",
    "\n",
    "print(type(my_float))\n",
    "print(type(my_int))"
   ]
  },
  {
   "cell_type": "markdown",
   "id": "61669b59",
   "metadata": {},
   "source": [
    "### 4. Multiple `my_float` and `my_int` and store it in variable `my_results`"
   ]
  },
  {
   "cell_type": "markdown",
   "id": "185e73ca",
   "metadata": {},
   "source": [
    "### Solution"
   ]
  },
  {
   "cell_type": "code",
   "execution_count": 18,
   "id": "8e83a529",
   "metadata": {},
   "outputs": [
    {
     "data": {
      "text/plain": [
       "89.91"
      ]
     },
     "execution_count": 18,
     "metadata": {},
     "output_type": "execute_result"
    }
   ],
   "source": [
    "my_results = my_float*my_int\n",
    "my_results"
   ]
  },
  {
   "cell_type": "markdown",
   "id": "29ba5e16",
   "metadata": {},
   "source": [
    "# Strings"
   ]
  },
  {
   "cell_type": "markdown",
   "id": "14ea93c7",
   "metadata": {},
   "source": [
    "### 1. Convert the `my_name` variable in lower case"
   ]
  },
  {
   "cell_type": "code",
   "execution_count": 22,
   "id": "189080cd",
   "metadata": {},
   "outputs": [],
   "source": [
    "my_name = 'JAMES HALIBURTON'"
   ]
  },
  {
   "cell_type": "markdown",
   "id": "ee129c3e",
   "metadata": {},
   "source": [
    "### Solution"
   ]
  },
  {
   "cell_type": "code",
   "execution_count": 24,
   "id": "1590e837",
   "metadata": {},
   "outputs": [
    {
     "data": {
      "text/plain": [
       "'james haliburton'"
      ]
     },
     "execution_count": 24,
     "metadata": {},
     "output_type": "execute_result"
    }
   ],
   "source": [
    "my_name.lower()"
   ]
  },
  {
   "cell_type": "markdown",
   "id": "4285fd17",
   "metadata": {},
   "source": [
    "### 2. Replace the space in `my_name` variable with `_`"
   ]
  },
  {
   "cell_type": "markdown",
   "id": "6103608e",
   "metadata": {},
   "source": [
    "### Solution"
   ]
  },
  {
   "cell_type": "code",
   "execution_count": 30,
   "id": "33f97622",
   "metadata": {},
   "outputs": [
    {
     "data": {
      "text/plain": [
       "'JAMES_HALIBURTON'"
      ]
     },
     "execution_count": 30,
     "metadata": {},
     "output_type": "execute_result"
    }
   ],
   "source": [
    "replaced = my_name.replace(' ','_')\n",
    "replaced"
   ]
  },
  {
   "cell_type": "markdown",
   "id": "cf10a48f",
   "metadata": {},
   "source": [
    "### 3. Split the `my_name` variable into list using default separator (space)"
   ]
  },
  {
   "cell_type": "markdown",
   "id": "bdc95d4f",
   "metadata": {},
   "source": [
    "### Solution"
   ]
  },
  {
   "cell_type": "code",
   "execution_count": 40,
   "id": "8ef52a1a",
   "metadata": {},
   "outputs": [
    {
     "data": {
      "text/plain": [
       "['JAMES', 'HALIBURTON']"
      ]
     },
     "execution_count": 40,
     "metadata": {},
     "output_type": "execute_result"
    }
   ],
   "source": [
    "my_name.split()"
   ]
  },
  {
   "cell_type": "markdown",
   "id": "c357cb26",
   "metadata": {},
   "source": [
    "### 4. Join the two strings"
   ]
  },
  {
   "cell_type": "code",
   "execution_count": 46,
   "id": "e9dece84",
   "metadata": {},
   "outputs": [],
   "source": [
    "first_string = 'My name is'\n",
    "second_string = 'James'"
   ]
  },
  {
   "cell_type": "markdown",
   "id": "cf3d46ad",
   "metadata": {},
   "source": [
    "### Solution"
   ]
  },
  {
   "cell_type": "code",
   "execution_count": 51,
   "id": "9126c8b4",
   "metadata": {},
   "outputs": [
    {
     "data": {
      "text/plain": [
       "'My name is James'"
      ]
     },
     "execution_count": 51,
     "metadata": {},
     "output_type": "execute_result"
    }
   ],
   "source": [
    "joined = \" \".join([first_string, second_string])\n",
    "joined"
   ]
  },
  {
   "cell_type": "markdown",
   "id": "83a6cbd9",
   "metadata": {},
   "source": [
    "# Lists"
   ]
  },
  {
   "cell_type": "markdown",
   "id": "7d126a16",
   "metadata": {},
   "source": [
    "### 1. Reverse the given python list"
   ]
  },
  {
   "cell_type": "code",
   "execution_count": 65,
   "id": "54b6da56",
   "metadata": {},
   "outputs": [],
   "source": [
    "list1 = [100, 200, 300, 400, 500]"
   ]
  },
  {
   "cell_type": "markdown",
   "id": "16775412",
   "metadata": {},
   "source": [
    "### Solution"
   ]
  },
  {
   "cell_type": "code",
   "execution_count": 68,
   "id": "b31ca7e4",
   "metadata": {},
   "outputs": [
    {
     "data": {
      "text/plain": [
       "[500, 400, 300, 200, 100]"
      ]
     },
     "execution_count": 68,
     "metadata": {},
     "output_type": "execute_result"
    }
   ],
   "source": [
    "list1.reverse()\n",
    "list1"
   ]
  },
  {
   "cell_type": "markdown",
   "id": "911cabcc",
   "metadata": {},
   "source": [
    "### 2. Sort the given Python list in descending order"
   ]
  },
  {
   "cell_type": "code",
   "execution_count": 70,
   "id": "1e478280",
   "metadata": {},
   "outputs": [],
   "source": [
    "list2 = [1, 5, 2, 3, 4, 9, 8, 7, 10, 6]"
   ]
  },
  {
   "cell_type": "markdown",
   "id": "b222bd5e",
   "metadata": {},
   "source": [
    "### Solution"
   ]
  },
  {
   "cell_type": "code",
   "execution_count": 86,
   "id": "dac8d304",
   "metadata": {},
   "outputs": [
    {
     "data": {
      "text/plain": [
       "[10, 9, 8, 7, 6, 5, 4, 3, 2, 1]"
      ]
     },
     "execution_count": 86,
     "metadata": {},
     "output_type": "execute_result"
    }
   ],
   "source": [
    "list2.sort(reverse=True)\n",
    "list2"
   ]
  },
  {
   "cell_type": "markdown",
   "id": "a47f586c",
   "metadata": {},
   "source": [
    "### 3. Merge the two lists:"
   ]
  },
  {
   "cell_type": "code",
   "execution_count": 88,
   "id": "045e8e83",
   "metadata": {},
   "outputs": [],
   "source": [
    "cities_canada = ['Toronto', 'Calgary', 'Vancouver']\n",
    "cities_usa = ['New York', 'Houston', 'Colorado']"
   ]
  },
  {
   "cell_type": "markdown",
   "id": "8a185730",
   "metadata": {},
   "source": [
    "### Solution"
   ]
  },
  {
   "cell_type": "code",
   "execution_count": 90,
   "id": "08fdd562",
   "metadata": {},
   "outputs": [
    {
     "data": {
      "text/plain": [
       "['Toronto', 'Calgary', 'Vancouver', 'New York', 'Houston', 'Colorado']"
      ]
     },
     "execution_count": 90,
     "metadata": {},
     "output_type": "execute_result"
    }
   ],
   "source": [
    "merged = cities_canada + cities_usa\n",
    "merged"
   ]
  },
  {
   "cell_type": "markdown",
   "id": "be712a6a",
   "metadata": {},
   "source": [
    "### 4. Filter None values from the list\n",
    "\n",
    "TIP: Use Python's default `filter` function."
   ]
  },
  {
   "cell_type": "code",
   "execution_count": 104,
   "id": "0ef23cbb",
   "metadata": {},
   "outputs": [],
   "source": [
    "list_names = [\"Michael\", \"Kiva\", \"Fiza\", \"Brad\", \"\", \"Jimmy\", \"\", \"Natalia\"]"
   ]
  },
  {
   "cell_type": "markdown",
   "id": "938b297d",
   "metadata": {},
   "source": [
    "### Solution"
   ]
  },
  {
   "cell_type": "code",
   "execution_count": 108,
   "id": "2ddbcdd0",
   "metadata": {},
   "outputs": [
    {
     "name": "stdout",
     "output_type": "stream",
     "text": [
      "['Michael', 'Kiva', 'Fiza', 'Brad', 'Jimmy', 'Natalia']\n"
     ]
    }
   ],
   "source": [
    "filtered = filter(None, list_names)\n",
    "print(list(filtered))"
   ]
  },
  {
   "cell_type": "markdown",
   "id": "70e10121",
   "metadata": {},
   "source": [
    "### 5. Indexing and Slicing Lists\n",
    "- Select the first value from the list `countries`\n",
    "- Select the first three values from the list `countries`\n",
    "- Select the last three values from the list `countries`"
   ]
  },
  {
   "cell_type": "code",
   "execution_count": 112,
   "id": "e5402cdc",
   "metadata": {},
   "outputs": [],
   "source": [
    "countries = ['USA', 'Canada','India', 'China', 'Japan', 'Denmark', 'Mexico']"
   ]
  },
  {
   "cell_type": "markdown",
   "id": "7f9a9530",
   "metadata": {},
   "source": [
    "### Solution"
   ]
  },
  {
   "cell_type": "code",
   "execution_count": 114,
   "id": "4dc83c7b",
   "metadata": {},
   "outputs": [
    {
     "data": {
      "text/plain": [
       "'USA'"
      ]
     },
     "execution_count": 114,
     "metadata": {},
     "output_type": "execute_result"
    }
   ],
   "source": [
    "countries[0]"
   ]
  },
  {
   "cell_type": "code",
   "execution_count": 120,
   "id": "d699df39",
   "metadata": {},
   "outputs": [
    {
     "data": {
      "text/plain": [
       "['USA', 'Canada', 'India']"
      ]
     },
     "execution_count": 120,
     "metadata": {},
     "output_type": "execute_result"
    }
   ],
   "source": [
    "countries[:3]"
   ]
  },
  {
   "cell_type": "code",
   "execution_count": 126,
   "id": "f27db9a2",
   "metadata": {},
   "outputs": [
    {
     "data": {
      "text/plain": [
       "['Japan', 'Denmark', 'Mexico']"
      ]
     },
     "execution_count": 126,
     "metadata": {},
     "output_type": "execute_result"
    }
   ],
   "source": [
    "countries[-3:]"
   ]
  },
  {
   "cell_type": "markdown",
   "id": "755a6f74",
   "metadata": {},
   "source": [
    "# Python Dictionaries"
   ]
  },
  {
   "cell_type": "markdown",
   "id": "f84a97bb",
   "metadata": {},
   "source": [
    "### 1. Print all the keys from the dictionary `my_car`"
   ]
  },
  {
   "cell_type": "code",
   "execution_count": 130,
   "id": "e7e4aedd",
   "metadata": {},
   "outputs": [],
   "source": [
    "my_car = {\n",
    "  \"brand\": \"Ford\",\n",
    "  \"model\": \"Mustang\",\n",
    "  \"year\": 1964\n",
    "}"
   ]
  },
  {
   "cell_type": "markdown",
   "id": "df504617",
   "metadata": {},
   "source": [
    "### Solution"
   ]
  },
  {
   "cell_type": "code",
   "execution_count": 136,
   "id": "2cf419ad",
   "metadata": {},
   "outputs": [
    {
     "data": {
      "text/plain": [
       "dict_keys(['brand', 'model', 'year'])"
      ]
     },
     "execution_count": 136,
     "metadata": {},
     "output_type": "execute_result"
    }
   ],
   "source": [
    "my_car.keys()"
   ]
  },
  {
   "cell_type": "markdown",
   "id": "d6ac3a1a",
   "metadata": {},
   "source": [
    "### 2. Retrieve `year` value from the dictionary `my_car`"
   ]
  },
  {
   "cell_type": "markdown",
   "id": "56183cd4",
   "metadata": {},
   "source": [
    "### Solution"
   ]
  },
  {
   "cell_type": "code",
   "execution_count": 140,
   "id": "3049d042",
   "metadata": {},
   "outputs": [
    {
     "data": {
      "text/plain": [
       "1964"
      ]
     },
     "execution_count": 140,
     "metadata": {},
     "output_type": "execute_result"
    }
   ],
   "source": [
    "my_car.get(\"year\")"
   ]
  },
  {
   "cell_type": "markdown",
   "id": "821640f1",
   "metadata": {},
   "source": [
    "### 3. Copy `my_car` dictionary into new variable `my_car2` and replace the `year` value from 1964 to 1975"
   ]
  },
  {
   "cell_type": "markdown",
   "id": "a55bece1",
   "metadata": {},
   "source": [
    "### Solution"
   ]
  },
  {
   "cell_type": "code",
   "execution_count": 146,
   "id": "c74c1448",
   "metadata": {},
   "outputs": [
    {
     "data": {
      "text/plain": [
       "{'brand': 'Ford', 'model': 'Mustang', 'year': 1975}"
      ]
     },
     "execution_count": 146,
     "metadata": {},
     "output_type": "execute_result"
    }
   ],
   "source": [
    "my_car2=my_car.copy()\n",
    "my_car2[\"year\"]=1975\n",
    "my_car2"
   ]
  },
  {
   "cell_type": "markdown",
   "id": "c3c50d1c",
   "metadata": {},
   "source": [
    "### 4. Convert the following two lists into dictionary\n",
    "\n",
    "TIP - You can use Python's `zip` function."
   ]
  },
  {
   "cell_type": "code",
   "execution_count": 157,
   "id": "da5a0b74",
   "metadata": {},
   "outputs": [],
   "source": [
    "list1 = [1, 2, 3]\n",
    "list2 = ['One', 'Two', 'Three']"
   ]
  },
  {
   "cell_type": "markdown",
   "id": "fff6a52d",
   "metadata": {},
   "source": [
    "### Solution"
   ]
  },
  {
   "cell_type": "code",
   "execution_count": 162,
   "id": "04db0559",
   "metadata": {},
   "outputs": [
    {
     "data": {
      "text/plain": [
       "{1: 'One', 2: 'Two', 3: 'Three'}"
      ]
     },
     "execution_count": 162,
     "metadata": {},
     "output_type": "execute_result"
    }
   ],
   "source": [
    "dictionary = dict(zip(list1, list2))\n",
    "dictionary"
   ]
  },
  {
   "cell_type": "markdown",
   "id": "753c88d2",
   "metadata": {},
   "source": [
    "### 5. Merge the following dictionatires into one and store it in variable `dict3`"
   ]
  },
  {
   "cell_type": "code",
   "execution_count": 166,
   "id": "86a6ad45",
   "metadata": {},
   "outputs": [],
   "source": [
    "dict1 = {'Ten': 10, 'Twenty': 20, 'Thirty': 30}\n",
    "dict2 = {'Thirty': 30, 'Fourty': 40, 'Fifty': 50}"
   ]
  },
  {
   "cell_type": "markdown",
   "id": "23402a6f",
   "metadata": {},
   "source": [
    "### Solution"
   ]
  },
  {
   "cell_type": "code",
   "execution_count": 171,
   "id": "cc1a7ac6",
   "metadata": {},
   "outputs": [
    {
     "data": {
      "text/plain": [
       "{'Ten': 10, 'Twenty': 20, 'Thirty': 30, 'Fourty': 40, 'Fifty': 50}"
      ]
     },
     "execution_count": 171,
     "metadata": {},
     "output_type": "execute_result"
    }
   ],
   "source": [
    "dict3 = dict1 | dict2\n",
    "dict3"
   ]
  },
  {
   "cell_type": "code",
   "execution_count": null,
   "id": "788f1bf3",
   "metadata": {},
   "outputs": [],
   "source": []
  }
 ],
 "metadata": {
  "kernelspec": {
   "display_name": "PythonData",
   "language": "python",
   "name": "pythondata"
  },
  "language_info": {
   "codemirror_mode": {
    "name": "ipython",
    "version": 3
   },
   "file_extension": ".py",
   "mimetype": "text/x-python",
   "name": "python",
   "nbconvert_exporter": "python",
   "pygments_lexer": "ipython3",
   "version": "3.12.7"
  }
 },
 "nbformat": 4,
 "nbformat_minor": 5
}
